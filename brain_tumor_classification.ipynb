{
 "cells": [
  {
   "cell_type": "code",
   "execution_count": 1,
   "source": [
    "import os\r\n",
    "import numpy as np \r\n",
    "import pandas as pd \r\n",
    "import matplotlib.pyplot as plt \r\n",
    "\r\n",
    "import tensorflow as tf \r\n",
    "from tensorflow import keras\r\n",
    "from tensorflow.keras import *"
   ],
   "outputs": [],
   "metadata": {}
  },
  {
   "cell_type": "code",
   "execution_count": 4,
   "source": [
    "base_dir = os.path.join(\"C:/Users/kzhan/Desktop/brain_tumors\")\r\n",
    "training_dir = os.path.join(base_dir + \"/Training\")\r\n",
    "test_dir = os.path.join(base_dir + \"/Testing\")"
   ],
   "outputs": [],
   "metadata": {}
  },
  {
   "cell_type": "code",
   "execution_count": 10,
   "source": [
    "batch_size, img_size, epochs = 64, (150, 150), 10\r\n",
    "\r\n",
    "def get_training_data(directory, batch_size, img_size):\r\n",
    "    training_data = tf.keras.preprocessing.image_dataset_from_directory(training_dir, image_size = img_size,\r\n",
    "    validation_split = 0.2, subset = \"training\", seed = 123, color_mode = 'rgb', shuffle = True)\r\n",
    "    return training_data\r\n",
    "\r\n",
    "def get_validation_data(directory, batch_size, img_size):\r\n",
    "    validation_data = tf.keras.preprocessing.image_dataset_from_directory(training_dir, image_size = img_size,\r\n",
    "    validation_split = 0.2, subset = \"validation\", seed = 123, color_mode = 'rgb', shuffle = True)\r\n",
    "    return validation_data\r\n",
    "\r\n",
    "training_data = get_training_data(training_dir, batch_size, img_size)\r\n",
    "validation_data = get_validation_data(training_dir, batch_size, img_size)"
   ],
   "outputs": [
    {
     "output_type": "stream",
     "name": "stdout",
     "text": [
      "Found 2870 files belonging to 4 classes.\n",
      "Using 2296 files for training.\n",
      "Found 2870 files belonging to 4 classes.\n",
      "Using 574 files for validation.\n"
     ]
    }
   ],
   "metadata": {}
  },
  {
   "cell_type": "code",
   "execution_count": 11,
   "source": [
    "class_names = training_data.class_names\r\n",
    "print(class_names, len(class_names))\r\n",
    "\r\n",
    "for image_batch, labels_batch in training_data:\r\n",
    "    print(image_batch.shape)\r\n",
    "    print(labels_batch.shape)\r\n",
    "    break"
   ],
   "outputs": [
    {
     "output_type": "stream",
     "name": "stdout",
     "text": [
      "['glioma_tumor', 'meningioma_tumor', 'no_tumor', 'pituitary_tumor'] 4\n",
      "(32, 150, 150, 3)\n",
      "(32,)\n"
     ]
    }
   ],
   "metadata": {}
  },
  {
   "cell_type": "code",
   "execution_count": null,
   "source": [],
   "outputs": [],
   "metadata": {}
  }
 ],
 "metadata": {
  "orig_nbformat": 4,
  "language_info": {
   "name": "python",
   "version": "3.8.5",
   "mimetype": "text/x-python",
   "codemirror_mode": {
    "name": "ipython",
    "version": 3
   },
   "pygments_lexer": "ipython3",
   "nbconvert_exporter": "python",
   "file_extension": ".py"
  },
  "kernelspec": {
   "name": "python3",
   "display_name": "Python 3.8.5 64-bit ('base': conda)"
  },
  "interpreter": {
   "hash": "62777786f8687b9575c0619f17c497edf6c2b58eb2992f0dd825a023781db6e8"
  }
 },
 "nbformat": 4,
 "nbformat_minor": 2
}