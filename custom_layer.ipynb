{
 "cells": [
  {
   "cell_type": "code",
   "execution_count": 3,
   "source": [
    "import tensorflow as tf\r\n",
    "from tensorflow.keras.models import Model\r\n",
    "from tensorflow.keras.layers import Dense, Input\r\n",
    "from tensorflow.keras import layers\r\n",
    "\r\n",
    "import utils\r\n",
    "import numpy as np\r\n",
    "import matplotlib.pyplot as plt\r\n",
    "import pandas as pd\r\n",
    "from sklearn.model_selection import train_test_split\r\n",
    "from sklearn.metrics import confusion_matrix\r\n",
    "import itertools\r\n",
    "\r\n"
   ],
   "outputs": [],
   "metadata": {}
  },
  {
   "cell_type": "code",
   "execution_count": 4,
   "source": [
    "from tensorflow.keras.layers import Layer\r\n",
    "\r\n",
    "class Simple_Quadratic_Layer(Layer):\r\n",
    "\r\n",
    "    def __init__(self, units = 64, activation = None):\r\n",
    "        super(Simple_Quadratic_Layer, self).__init__()\r\n",
    "        self.units = units\r\n",
    "        self.activation = tf.keras.activations.get(activation)\r\n",
    "    def build(self, input_shape):\r\n",
    "        a_init = tf.random_normal_initializer()\r\n",
    "        b_init = tf.random_normal_initializer()\r\n",
    "        c_init = tf.zeros_initializer()\r\n",
    "        \r\n",
    "        self.a = tf.Variable(name = \"kernel\", initial_value = a_init(shape= (input_shape[-1], self.units), \r\n",
    "                                                                    dtype= \"float32\"), trainable = True)\r\n",
    "        \r\n",
    "        self.b = tf.Variable(name = \"kernel\", initial_value = b_init(shape= (input_shape[-1], self.units), \r\n",
    "                                                                    dtype= \"float32\"), trainable = True)\r\n",
    "        \r\n",
    "        self.c = tf.Variable(name = \"bias\", initial_value = c_init(shape= (self.units,), \r\n",
    "                                                                    dtype= \"float32\"), trainable = True)\r\n",
    "\r\n",
    "    def call(self, inputs):\r\n",
    "        result = tf.matmul(tf.math.square(inputs), self.a) + tf.matmul(inputs, self.b) + self.c\r\n",
    "        return self.activation(result)\r\n"
   ],
   "outputs": [],
   "metadata": {}
  },
  {
   "cell_type": "code",
   "execution_count": 5,
   "source": [
    "mnist = tf.keras.datasets.mnist\r\n",
    "\r\n",
    "(x_train, y_train),(x_test, y_test) = mnist.load_data()\r\n",
    "x_train, x_test = x_train / 255.0, x_test / 255.0\r\n",
    "\r\n",
    "model = tf.keras.models.Sequential([\r\n",
    "  tf.keras.layers.Flatten(input_shape=(28, 28)),\r\n",
    "  Simple_Quadratic_Layer(128, activation='relu'),\r\n",
    "  tf.keras.layers.Dropout(0.2),\r\n",
    "  tf.keras.layers.Dense(10, activation='softmax')\r\n",
    "])\r\n",
    "\r\n",
    "model.compile(optimizer='adam',\r\n",
    "              loss='sparse_categorical_crossentropy',\r\n",
    "              metrics=['accuracy'])"
   ],
   "outputs": [],
   "metadata": {}
  }
 ],
 "metadata": {
  "orig_nbformat": 4,
  "language_info": {
   "name": "python",
   "version": "3.8.5",
   "mimetype": "text/x-python",
   "codemirror_mode": {
    "name": "ipython",
    "version": 3
   },
   "pygments_lexer": "ipython3",
   "nbconvert_exporter": "python",
   "file_extension": ".py"
  },
  "kernelspec": {
   "name": "python3",
   "display_name": "Python 3.8.5 64-bit ('base': conda)"
  },
  "interpreter": {
   "hash": "62777786f8687b9575c0619f17c497edf6c2b58eb2992f0dd825a023781db6e8"
  }
 },
 "nbformat": 4,
 "nbformat_minor": 2
}